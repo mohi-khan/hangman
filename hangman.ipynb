{
 "cells": [
  {
   "cell_type": "code",
   "execution_count": 40,
   "source": [
    "import random"
   ],
   "outputs": [],
   "metadata": {}
  },
  {
   "cell_type": "code",
   "execution_count": 39,
   "source": [
    "WORDLIST_FILENAME = \"words.txt\""
   ],
   "outputs": [],
   "metadata": {}
  },
  {
   "cell_type": "code",
   "execution_count": 38,
   "source": [
    "def loadWord():  \r\n",
    "    inFile = open(WORDLIST_FILENAME, 'r')\r\n",
    "    lines=inFile.readline()\r\n",
    "    words=lines.split() #Split the lines into words\r\n",
    "    return words"
   ],
   "outputs": [],
   "metadata": {}
  },
  {
   "cell_type": "code",
   "execution_count": 37,
   "source": [
    "def chooseWords(wordlists):\r\n",
    "    return random.choice(wordlists)\r\n"
   ],
   "outputs": [],
   "metadata": {}
  },
  {
   "cell_type": "code",
   "execution_count": 114,
   "source": [
    "def charcheck(origword,guesschar,guessword):\r\n",
    "    counter=0 #To check if the number is present\r\n",
    "    k=0   #Incremental counter\r\n",
    "    char=guesschar[0]\r\n",
    "    guessword=list(guessword)\r\n",
    "    for i in origword:\r\n",
    "        if i == char:\r\n",
    "            guessword[k]=char; #Replace the element\r\n",
    "            counter=counter+1;\r\n",
    "        k=k+1\r\n",
    "    if counter > 0:\r\n",
    "        return \"\".join(guessword); #Return to string\r\n",
    "    else:\r\n",
    "        return counter;"
   ],
   "outputs": [],
   "metadata": {}
  },
  {
   "cell_type": "code",
   "execution_count": null,
   "source": [],
   "outputs": [],
   "metadata": {}
  },
  {
   "cell_type": "code",
   "execution_count": 117,
   "source": [
    "wordlist=loadWord()\r\n",
    "originword=chooseWords(wordlist)\r\n",
    "chooseword=[] #List of words already selected\r\n",
    "guessword=\"-\"*len(originword)\r\n",
    "attempt=8 #Total 8 no. of attempt is possible\r\n",
    "while(originword!=guessword):\r\n",
    "    guesschar=list(input(\"Guess a Character:\"))\r\n",
    "    if guesschar in chooseword:\r\n",
    "        print(\"Charater already guess before!Select another word\")\r\n",
    "    else:\r\n",
    "        chooseword.append(guesschar)\r\n",
    "        myguess=charcheck(originword,guesschar,guessword)\r\n",
    "        if myguess==0: #Wrong Guess\r\n",
    "            attempt=attempt-1\r\n",
    "            print(f\"Sorry!guess is wrong; You have {attempt} left\")\r\n",
    "        else:\r\n",
    "            print(myguess)\r\n",
    "            guessword=myguess #container variable as myguess will be changed on next loop\r\n",
    "            if (originword==guessword):\r\n",
    "                print(\"Congratulation You have made it!\")\r\n",
    "                break\r\n",
    "        if attempt==0:\r\n",
    "            print(f\"Game is Over!The word was {originword}\")\r\n",
    "            break"
   ],
   "outputs": [
    {
     "output_type": "stream",
     "name": "stdout",
     "text": [
      "Sorry!guess is wrong; You have 7 left\n",
      "-a----\n",
      "Charater already guess before!Select another word\n",
      "-a--t-\n",
      "-a--ty\n",
      "Sorry!guess is wrong; You have 6 left\n",
      "Sorry!guess is wrong; You have 5 left\n",
      "Sorry!guess is wrong; You have 4 left\n",
      "Charater already guess before!Select another word\n",
      "Sorry!guess is wrong; You have 3 left\n",
      "Sorry!guess is wrong; You have 2 left\n",
      "Charater already guess before!Select another word\n",
      "Sorry!guess is wrong; You have 1 left\n",
      "-ai-ty\n",
      "Charater already guess before!Select another word\n",
      "Sorry!guess is wrong; You have 0 left\n",
      "Game is Over!The word was dainty\n"
     ]
    }
   ],
   "metadata": {}
  }
 ],
 "metadata": {
  "orig_nbformat": 4,
  "language_info": {
   "name": "python",
   "version": "3.7.0",
   "mimetype": "text/x-python",
   "codemirror_mode": {
    "name": "ipython",
    "version": 3
   },
   "pygments_lexer": "ipython3",
   "nbconvert_exporter": "python",
   "file_extension": ".py"
  },
  "kernelspec": {
   "name": "python3",
   "display_name": "Python 3.7.0 64-bit ('base': conda)"
  },
  "interpreter": {
   "hash": "b3ba2566441a7c06988d0923437866b63cedc61552a5af99d1f4fb67d367b25f"
  }
 },
 "nbformat": 4,
 "nbformat_minor": 2
}